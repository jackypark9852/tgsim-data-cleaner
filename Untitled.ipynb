{
 "cells": [
  {
   "cell_type": "code",
   "execution_count": 24,
   "id": "ad2d70d7",
   "metadata": {},
   "outputs": [],
   "source": [
    "import pandas as pd\n",
    "\n",
    "raw_data = pd.read_csv('trajectories_raw_20221130.csv')\n",
    "raw_data = raw_data.iloc[:100, :]\n",
    "raw_data.rename(columns={ raw_data.columns[0]: \"id\" }, inplace = True)\n",
    "for i in range(1, 11):\n",
    "    raw_data.loc[(i - 1)*10:(i*10), 'id']= i\n",
    "raw_data.to_csv('test1', index=False)"
   ]
  }
 ],
 "metadata": {
  "kernelspec": {
   "display_name": "Python 3 (ipykernel)",
   "language": "python",
   "name": "python3"
  },
  "language_info": {
   "codemirror_mode": {
    "name": "ipython",
    "version": 3
   },
   "file_extension": ".py",
   "mimetype": "text/x-python",
   "name": "python",
   "nbconvert_exporter": "python",
   "pygments_lexer": "ipython3",
   "version": "3.10.6"
  }
 },
 "nbformat": 4,
 "nbformat_minor": 5
}
