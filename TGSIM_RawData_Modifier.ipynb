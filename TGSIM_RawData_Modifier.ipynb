{
 "cells": [
  {
   "cell_type": "code",
   "execution_count": 24,
   "id": "4cd02301",
   "metadata": {},
   "outputs": [
    {
     "data": {
      "text/plain": [
       "{743: [22], 722: [415], 757: [429], 714: [18], 778: [2], 742: [24], 808: [15]}"
      ]
     },
     "execution_count": 24,
     "metadata": {},
     "output_type": "execute_result"
    }
   ],
   "source": [
    "import pandas as pd \n",
    "import math \n",
    "\n",
    "# Open excel file \n",
    "fixes = pd.read_excel('ScriptTest1_Fixes.xlsx')\n",
    "\n",
    "# Splice for useful information\n",
    "fixes = fixes.loc[:,['Initial ID','Changed ID', 'Time First Seen']].dropna()\n",
    "\n",
    "# Sort by Time \n",
    "fixes = fixes.sort_values(by=['Time First Seen'])\n",
    "\n",
    "graph = {}\n",
    "\n",
    "#Construct graph \n",
    "for index, row in fixes.iterrows():\n",
    "    changed_id = int(row['Changed ID'])\n",
    "    initial_id = int(row['Initial ID'])\n",
    "    if(changed_id in graph): \n",
    "        if(initial_id not in graph[changed_id]): \n",
    "            graph[changed_id].append(initial_id)\n",
    "    else: \n",
    "        graph[changed_id] = [initial_id]\n",
    "\n",
    "\n",
    "\n",
    "\n"
   ]
  }
 ],
 "metadata": {
  "kernelspec": {
   "display_name": "Python 3 (ipykernel)",
   "language": "python",
   "name": "python3"
  },
  "language_info": {
   "codemirror_mode": {
    "name": "ipython",
    "version": 3
   },
   "file_extension": ".py",
   "mimetype": "text/x-python",
   "name": "python",
   "nbconvert_exporter": "python",
   "pygments_lexer": "ipython3",
   "version": "3.10.6"
  }
 },
 "nbformat": 4,
 "nbformat_minor": 5
}
