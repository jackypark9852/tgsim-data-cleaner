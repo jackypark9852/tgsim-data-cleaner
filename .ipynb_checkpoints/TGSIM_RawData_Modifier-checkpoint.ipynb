{
 "cells": [
  {
   "cell_type": "code",
   "execution_count": 20,
   "id": "4cd02301",
   "metadata": {},
   "outputs": [],
   "source": [
    "import pandas as pd \n",
    "import math \n",
    "\n",
    "# Open excel file \n",
    "fixes = pd.read_excel('ScriptTest1_Fixes.xlsx')\n",
    "raw_data = pd.read_csv('')\n",
    "# Splice for useful information\n",
    "fixes = fixes.loc[:,['Initial ID','Changed ID', 'Time First Seen']].dropna()\n",
    "\n",
    "# Sort by Time \n",
    "fixes = fixes.sort_values(by=['Time First Seen'])\n",
    "\n",
    "graph = {}\n",
    "\n",
    "#Construct graph \n",
    "for index, row in fixes.iterrows():\n",
    "    changed_id = int(row['Changed ID'])\n",
    "    initial_id = int(row['Initial ID'])\n",
    "    if(initial_id not in graph): \n",
    "        graph[initial_id] = []\n",
    "    if(changed_id not in graph): \n",
    "        graph[changed_id] = []\n",
    "    if(initial_id not in graph[changed_id]): \n",
    "        graph[changed_id].append(initial_id)\n",
    "\n",
    "        \n",
    "#Define functions \n",
    "# Finds and returns a car's initial ID given changed ID \n",
    "def FindRootId(id):\n",
    "    current_id = id\n",
    "    while(current_id in graph): \n",
    "        current_id = graph[current_id][-1]\n",
    "    return current_id\n",
    "\n",
    "# Is id1 connected to id2? \n",
    "def IsConnected(id1, id2, graph): \n",
    "    if(id1 not in graph or id2 not in graph): \n",
    "        return False \n",
    "    \n",
    "    visited = [id1] \n",
    "    queue = [id1]\n",
    "    while queue:          # Creating loop to visit each node\n",
    "        m = queue.pop(0) \n",
    "        if(m == id2): \n",
    "            return True\n",
    "        for neighbour in graph[m]:\n",
    "          if(neighbour not in visited):\n",
    "            visited.append(neighbour)\n",
    "            queue.append(neighbour)\n",
    "    return False \n",
    "\n"
   ]
  }
 ],
 "metadata": {
  "kernelspec": {
   "display_name": "Python 3 (ipykernel)",
   "language": "python",
   "name": "python3"
  },
  "language_info": {
   "codemirror_mode": {
    "name": "ipython",
    "version": 3
   },
   "file_extension": ".py",
   "mimetype": "text/x-python",
   "name": "python",
   "nbconvert_exporter": "python",
   "pygments_lexer": "ipython3",
   "version": "3.10.6"
  }
 },
 "nbformat": 4,
 "nbformat_minor": 5
}
