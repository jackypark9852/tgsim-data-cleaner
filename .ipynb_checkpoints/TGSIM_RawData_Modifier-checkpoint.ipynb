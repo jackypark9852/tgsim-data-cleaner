{
 "cells": [
  {
   "cell_type": "code",
   "execution_count": 79,
   "id": "4cd02301",
   "metadata": {},
   "outputs": [
    {
     "name": "stdout",
     "output_type": "stream",
     "text": [
      "        id       time   xloc   yloc  lane  length  width           type\n",
      "610271   0  159.81735  179.1  286.2    -4     4.5    5.1  small-vehicle\n",
      "610272   0  159.85068  169.2  287.7    -4    11.1   26.1  large-vehicle\n",
      "610273   0  159.88401  171.3  287.7    -4    10.2   25.2  large-vehicle\n",
      "610274   0  159.95067  172.5  287.1    -4    10.5   25.5  large-vehicle\n",
      "610275   0  159.98400  175.5  286.5    -4     9.9   22.2  large-vehicle\n"
     ]
    }
   ],
   "source": [
    "import pandas as pd \n",
    "import math \n",
    "\n",
    "# Open excel file \n",
    "fixes = pd.read_excel('ScriptTest1_Fixes.xlsx')\n",
    "raw_data = pd.read_csv('trajectories_raw_20221130.csv')\n",
    "raw_data = raw_data.rename(columns={ raw_data.columns[0]: \"id\" })\n",
    "\n",
    "# Splice for useful information\n",
    "fixes = fixes.loc[:,['Initial ID','Changed ID', 'Time First Seen']].dropna()\n",
    "\n",
    "# Sort by Time \n",
    "fixes = fixes.sort_values(by=['Time First Seen'])\n",
    "\n",
    "#Define functions \n",
    "# Finds and returns a car's initial ID given changed ID \n",
    "def FindRootId(id):\n",
    "    current_id = id\n",
    "    while(current_id in graph): \n",
    "        current_id = graph[current_id][-1]\n",
    "    return current_id\n",
    "\n",
    "# Is id1 connected to id2? \n",
    "def IsConnected(id1, id2, graph): \n",
    "    if(id1 not in graph or id2 not in graph): \n",
    "        return False \n",
    "    \n",
    "    visited = [id1] \n",
    "    queue = [id1]\n",
    "    while queue:          # Creating loop to visit each node\n",
    "        m = queue.pop(0) \n",
    "        if(m == id2): \n",
    "            return True\n",
    "        for neighbour in graph[m]:\n",
    "          if(neighbour not in visited):\n",
    "            visited.append(neighbour)\n",
    "            queue.append(neighbour)\n",
    "    return False \n",
    "\n",
    "# A fix is not valid if it implies id's were swapped  \n",
    "def IsValidFix(initial_id, changed_id, graph): \n",
    "    # Check if the graph forms a cycle afer adding new edge from changed_id to initial_id\n",
    "    if(changed_id in graph): \n",
    "        return not IsConnected(changed_id, initial_id, graph) \n",
    "    return False \n",
    "\n",
    "# Finds all rows to be changed and replaces id with initial_id \n",
    "def FixId(initial_id, changed_id, time_first_seen_seconds): \n",
    "    margin_of_error = 1/30 \n",
    "    minimum_time = time_first_seen_seconds - margin_of_error\n",
    "    raw_data.loc[(raw_data['id'] == changed_id) & ((raw_data['time'] >= minimum_time)), 'id'] = initial_id\n",
    "    \n",
    "graph = {}\n",
    "#Construct graph \n",
    "for index, row in fixes.iterrows():\n",
    "    changed_id = int(row['Changed ID'])\n",
    "    initial_id = int(row['Initial ID'])\n",
    "    if(initial_id not in graph): \n",
    "        graph[initial_id] = []\n",
    "    if(changed_id not in graph): \n",
    "        graph[changed_id] = []\n",
    "    if(initial_id not in graph[changed_id]): \n",
    "        graph[changed_id].append(initial_id)\n"
   ]
  }
 ],
 "metadata": {
  "kernelspec": {
   "display_name": "Python 3 (ipykernel)",
   "language": "python",
   "name": "python3"
  },
  "language_info": {
   "codemirror_mode": {
    "name": "ipython",
    "version": 3
   },
   "file_extension": ".py",
   "mimetype": "text/x-python",
   "name": "python",
   "nbconvert_exporter": "python",
   "pygments_lexer": "ipython3",
   "version": "3.10.6"
  }
 },
 "nbformat": 4,
 "nbformat_minor": 5
}
